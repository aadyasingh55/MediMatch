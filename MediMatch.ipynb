{
 "cells": [
  {
   "cell_type": "code",
   "execution_count": 1,
   "id": "46f24b0d",
   "metadata": {
    "_cell_guid": "b1076dfc-b9ad-4769-8c92-a6c4dae69d19",
    "_uuid": "8f2839f25d086af736a60e9eeb907d3b93b6e0e5",
    "execution": {
     "iopub.execute_input": "2025-01-27T04:58:49.646103Z",
     "iopub.status.busy": "2025-01-27T04:58:49.645683Z",
     "iopub.status.idle": "2025-01-27T04:58:50.569224Z",
     "shell.execute_reply": "2025-01-27T04:58:50.567658Z"
    },
    "papermill": {
     "duration": 0.934225,
     "end_time": "2025-01-27T04:58:50.571384",
     "exception": false,
     "start_time": "2025-01-27T04:58:49.637159",
     "status": "completed"
    },
    "tags": []
   },
   "outputs": [
    {
     "name": "stdout",
     "output_type": "stream",
     "text": [
      "/kaggle/input/drug-dataset/Medicine_Details.csv\n"
     ]
    }
   ],
   "source": [
    "# This Python 3 environment comes with many helpful analytics libraries installed\n",
    "# It is defined by the kaggle/python Docker image: https://github.com/kaggle/docker-python\n",
    "# For example, here's several helpful packages to load\n",
    "\n",
    "import numpy as np # linear algebra\n",
    "import pandas as pd # data processing, CSV file I/O (e.g. pd.read_csv)\n",
    "\n",
    "# Input data files are available in the read-only \"../input/\" directory\n",
    "# For example, running this (by clicking run or pressing Shift+Enter) will list all files under the input directory\n",
    "\n",
    "import os\n",
    "for dirname, _, filenames in os.walk('/kaggle/input'):\n",
    "    for filename in filenames:\n",
    "        print(os.path.join(dirname, filename))\n",
    "\n",
    "# You can write up to 20GB to the current directory (/kaggle/working/) that gets preserved as output when you create a version using \"Save & Run All\" \n",
    "# You can also write temporary files to /kaggle/temp/, but they won't be saved outside of the current session"
   ]
  },
  {
   "cell_type": "markdown",
   "id": "3486c56e",
   "metadata": {
    "papermill": {
     "duration": 0.007048,
     "end_time": "2025-01-27T04:58:50.585320",
     "exception": false,
     "start_time": "2025-01-27T04:58:50.578272",
     "status": "completed"
    },
    "tags": []
   },
   "source": [
    "# Phase 1: Data Preprocessing and Exploration\n",
    "\n",
    "## 1. Load and Inspect Data\n",
    "\n",
    "### * Checking for missing values, duplicates, and inconsistencies\n",
    "### * Examining column distributions and unique value counts for each feature.\n"
   ]
  },
  {
   "cell_type": "code",
   "execution_count": 2,
   "id": "ed5b8966",
   "metadata": {
    "execution": {
     "iopub.execute_input": "2025-01-27T04:58:50.600101Z",
     "iopub.status.busy": "2025-01-27T04:58:50.599586Z",
     "iopub.status.idle": "2025-01-27T04:58:50.738497Z",
     "shell.execute_reply": "2025-01-27T04:58:50.737404Z"
    },
    "papermill": {
     "duration": 0.148304,
     "end_time": "2025-01-27T04:58:50.740376",
     "exception": false,
     "start_time": "2025-01-27T04:58:50.592072",
     "status": "completed"
    },
    "tags": []
   },
   "outputs": [],
   "source": [
    "import pandas as pd\n",
    "\n",
    "# Load the dataset\n",
    "file_path = '/kaggle/input/drug-dataset/Medicine_Details.csv'  # Replace with your dataset path\n",
    "data = pd.read_csv(file_path)\n"
   ]
  },
  {
   "cell_type": "code",
   "execution_count": 3,
   "id": "f704942c",
   "metadata": {
    "execution": {
     "iopub.execute_input": "2025-01-27T04:58:50.754756Z",
     "iopub.status.busy": "2025-01-27T04:58:50.754386Z",
     "iopub.status.idle": "2025-01-27T04:58:50.786961Z",
     "shell.execute_reply": "2025-01-27T04:58:50.785496Z"
    },
    "papermill": {
     "duration": 0.042023,
     "end_time": "2025-01-27T04:58:50.789195",
     "exception": false,
     "start_time": "2025-01-27T04:58:50.747172",
     "status": "completed"
    },
    "tags": []
   },
   "outputs": [
    {
     "name": "stdout",
     "output_type": "stream",
     "text": [
      "<class 'pandas.core.frame.DataFrame'>\n",
      "RangeIndex: 11825 entries, 0 to 11824\n",
      "Data columns (total 9 columns):\n",
      " #   Column              Non-Null Count  Dtype \n",
      "---  ------              --------------  ----- \n",
      " 0   Medicine Name       11825 non-null  object\n",
      " 1   Composition         11825 non-null  object\n",
      " 2   Uses                11825 non-null  object\n",
      " 3   Side_effects        11825 non-null  object\n",
      " 4   Image URL           11825 non-null  object\n",
      " 5   Manufacturer        11825 non-null  object\n",
      " 6   Excellent Review %  11825 non-null  int64 \n",
      " 7   Average Review %    11825 non-null  int64 \n",
      " 8   Poor Review %       11825 non-null  int64 \n",
      "dtypes: int64(3), object(6)\n",
      "memory usage: 831.6+ KB\n",
      "None\n"
     ]
    }
   ],
   "source": [
    "# Inspect the dataset\n",
    "print(data.info())"
   ]
  },
  {
   "cell_type": "code",
   "execution_count": 4,
   "id": "5d661c9b",
   "metadata": {
    "execution": {
     "iopub.execute_input": "2025-01-27T04:58:50.804266Z",
     "iopub.status.busy": "2025-01-27T04:58:50.803884Z",
     "iopub.status.idle": "2025-01-27T04:58:50.856501Z",
     "shell.execute_reply": "2025-01-27T04:58:50.854958Z"
    },
    "papermill": {
     "duration": 0.061952,
     "end_time": "2025-01-27T04:58:50.858333",
     "exception": false,
     "start_time": "2025-01-27T04:58:50.796381",
     "status": "completed"
    },
    "tags": []
   },
   "outputs": [
    {
     "name": "stdout",
     "output_type": "stream",
     "text": [
      "        Medicine Name            Composition  \\\n",
      "count           11825                  11825   \n",
      "unique          11498                   3358   \n",
      "top     Lulifin Cream  Luliconazole (1% w/w)   \n",
      "freq                4                     98   \n",
      "mean              NaN                    NaN   \n",
      "std               NaN                    NaN   \n",
      "min               NaN                    NaN   \n",
      "25%               NaN                    NaN   \n",
      "50%               NaN                    NaN   \n",
      "75%               NaN                    NaN   \n",
      "max               NaN                    NaN   \n",
      "\n",
      "                                         Uses  \\\n",
      "count                                   11825   \n",
      "unique                                    712   \n",
      "top     Treatment of Type 2 diabetes mellitus   \n",
      "freq                                      907   \n",
      "mean                                      NaN   \n",
      "std                                       NaN   \n",
      "min                                       NaN   \n",
      "25%                                       NaN   \n",
      "50%                                       NaN   \n",
      "75%                                       NaN   \n",
      "max                                       NaN   \n",
      "\n",
      "                                             Side_effects  \\\n",
      "count                                               11825   \n",
      "unique                                               1512   \n",
      "top     Application site reactions burning irritation ...   \n",
      "freq                                                  390   \n",
      "mean                                                  NaN   \n",
      "std                                                   NaN   \n",
      "min                                                   NaN   \n",
      "25%                                                   NaN   \n",
      "50%                                                   NaN   \n",
      "75%                                                   NaN   \n",
      "max                                                   NaN   \n",
      "\n",
      "                                                Image URL  \\\n",
      "count                                               11825   \n",
      "unique                                              11740   \n",
      "top     https://onemg.gumlet.io/l_watermark_346,w_480,...   \n",
      "freq                                                    3   \n",
      "mean                                                  NaN   \n",
      "std                                                   NaN   \n",
      "min                                                   NaN   \n",
      "25%                                                   NaN   \n",
      "50%                                                   NaN   \n",
      "75%                                                   NaN   \n",
      "max                                                   NaN   \n",
      "\n",
      "                             Manufacturer  Excellent Review %  \\\n",
      "count                               11825        11825.000000   \n",
      "unique                                759                 NaN   \n",
      "top     Sun Pharmaceutical Industries Ltd                 NaN   \n",
      "freq                                  820                 NaN   \n",
      "mean                                  NaN           38.516025   \n",
      "std                                   NaN           25.225343   \n",
      "min                                   NaN            0.000000   \n",
      "25%                                   NaN           22.000000   \n",
      "50%                                   NaN           34.000000   \n",
      "75%                                   NaN           51.000000   \n",
      "max                                   NaN          100.000000   \n",
      "\n",
      "        Average Review %  Poor Review %  \n",
      "count       11825.000000   11825.000000  \n",
      "unique               NaN            NaN  \n",
      "top                  NaN            NaN  \n",
      "freq                 NaN            NaN  \n",
      "mean           35.756364      25.727611  \n",
      "std            18.268134      23.991985  \n",
      "min             0.000000       0.000000  \n",
      "25%            27.000000       0.000000  \n",
      "50%            35.000000      22.000000  \n",
      "75%            47.000000      35.000000  \n",
      "max            88.000000     100.000000  \n"
     ]
    }
   ],
   "source": [
    "print(data.describe(include='all'))"
   ]
  },
  {
   "cell_type": "code",
   "execution_count": 5,
   "id": "acec3f94",
   "metadata": {
    "execution": {
     "iopub.execute_input": "2025-01-27T04:58:50.874992Z",
     "iopub.status.busy": "2025-01-27T04:58:50.874580Z",
     "iopub.status.idle": "2025-01-27T04:58:50.883875Z",
     "shell.execute_reply": "2025-01-27T04:58:50.882550Z"
    },
    "papermill": {
     "duration": 0.019188,
     "end_time": "2025-01-27T04:58:50.885596",
     "exception": false,
     "start_time": "2025-01-27T04:58:50.866408",
     "status": "completed"
    },
    "tags": []
   },
   "outputs": [
    {
     "name": "stdout",
     "output_type": "stream",
     "text": [
      "              Medicine Name  \\\n",
      "0   Avastin 400mg Injection   \n",
      "1  Augmentin 625 Duo Tablet   \n",
      "2       Azithral 500 Tablet   \n",
      "3          Ascoril LS Syrup   \n",
      "4         Aciloc 150 Tablet   \n",
      "\n",
      "                                         Composition  \\\n",
      "0                                Bevacizumab (400mg)   \n",
      "1    Amoxycillin  (500mg) +  Clavulanic Acid (125mg)   \n",
      "2                               Azithromycin (500mg)   \n",
      "3  Ambroxol (30mg/5ml) + Levosalbutamol (1mg/5ml)...   \n",
      "4                                 Ranitidine (150mg)   \n",
      "\n",
      "                                                Uses  \\\n",
      "0   Cancer of colon and rectum Non-small cell lun...   \n",
      "1                  Treatment of Bacterial infections   \n",
      "2                  Treatment of Bacterial infections   \n",
      "3                      Treatment of Cough with mucus   \n",
      "4  Treatment of Gastroesophageal reflux disease (...   \n",
      "\n",
      "                                        Side_effects  \\\n",
      "0  Rectal bleeding Taste change Headache Noseblee...   \n",
      "1  Vomiting Nausea Diarrhea Mucocutaneous candidi...   \n",
      "2                     Nausea Abdominal pain Diarrhea   \n",
      "3  Nausea Vomiting Diarrhea Upset stomach Stomach...   \n",
      "4     Headache Diarrhea Gastrointestinal disturbance   \n",
      "\n",
      "                                           Image URL  \\\n",
      "0  https://onemg.gumlet.io/l_watermark_346,w_480,...   \n",
      "1  https://onemg.gumlet.io/l_watermark_346,w_480,...   \n",
      "2  https://onemg.gumlet.io/l_watermark_346,w_480,...   \n",
      "3  https://onemg.gumlet.io/l_watermark_346,w_480,...   \n",
      "4  https://onemg.gumlet.io/l_watermark_346,w_480,...   \n",
      "\n",
      "                           Manufacturer  Excellent Review %  Average Review %  \\\n",
      "0          Roche Products India Pvt Ltd                  22                56   \n",
      "1  Glaxo SmithKline Pharmaceuticals Ltd                  47                35   \n",
      "2           Alembic Pharmaceuticals Ltd                  39                40   \n",
      "3          Glenmark Pharmaceuticals Ltd                  24                41   \n",
      "4            Cadila Pharmaceuticals Ltd                  34                37   \n",
      "\n",
      "   Poor Review %  \n",
      "0             22  \n",
      "1             18  \n",
      "2             21  \n",
      "3             35  \n",
      "4             29  \n"
     ]
    }
   ],
   "source": [
    "print(data.head())"
   ]
  },
  {
   "cell_type": "markdown",
   "id": "77897cbf",
   "metadata": {
    "papermill": {
     "duration": 0.006328,
     "end_time": "2025-01-27T04:58:50.898787",
     "exception": false,
     "start_time": "2025-01-27T04:58:50.892459",
     "status": "completed"
    },
    "tags": []
   },
   "source": [
    "## 2. Handle Missing Values\n",
    "### * Imputing the missing values or remove rows/columns with excessive null values. For text data filling missing values with \"Unknown\""
   ]
  },
  {
   "cell_type": "code",
   "execution_count": 6,
   "id": "f579f4fc",
   "metadata": {
    "execution": {
     "iopub.execute_input": "2025-01-27T04:58:50.913687Z",
     "iopub.status.busy": "2025-01-27T04:58:50.913266Z",
     "iopub.status.idle": "2025-01-27T04:58:50.924133Z",
     "shell.execute_reply": "2025-01-27T04:58:50.923047Z"
    },
    "papermill": {
     "duration": 0.020076,
     "end_time": "2025-01-27T04:58:50.925633",
     "exception": false,
     "start_time": "2025-01-27T04:58:50.905557",
     "status": "completed"
    },
    "tags": []
   },
   "outputs": [
    {
     "name": "stdout",
     "output_type": "stream",
     "text": [
      "Medicine Name         0\n",
      "Composition           0\n",
      "Uses                  0\n",
      "Side_effects          0\n",
      "Image URL             0\n",
      "Manufacturer          0\n",
      "Excellent Review %    0\n",
      "Average Review %      0\n",
      "Poor Review %         0\n",
      "dtype: int64\n"
     ]
    }
   ],
   "source": [
    "# Check missing values\n",
    "missing_values = data.isnull().sum()\n",
    "print(missing_values)"
   ]
  },
  {
   "cell_type": "code",
   "execution_count": 7,
   "id": "1572a84b",
   "metadata": {
    "execution": {
     "iopub.execute_input": "2025-01-27T04:58:50.940619Z",
     "iopub.status.busy": "2025-01-27T04:58:50.940245Z",
     "iopub.status.idle": "2025-01-27T04:58:50.949940Z",
     "shell.execute_reply": "2025-01-27T04:58:50.948867Z"
    },
    "papermill": {
     "duration": 0.019347,
     "end_time": "2025-01-27T04:58:50.951951",
     "exception": false,
     "start_time": "2025-01-27T04:58:50.932604",
     "status": "completed"
    },
    "tags": []
   },
   "outputs": [],
   "source": [
    "# Fill missing values\n",
    "data['Composition'] = data['Composition'].fillna('Unknown')\n",
    "data['Side_effects'] = data['Side_effects'].fillna('Unknown')\n"
   ]
  },
  {
   "cell_type": "markdown",
   "id": "ebde4749",
   "metadata": {
    "papermill": {
     "duration": 0.006393,
     "end_time": "2025-01-27T04:58:50.965237",
     "exception": false,
     "start_time": "2025-01-27T04:58:50.958844",
     "status": "completed"
    },
    "tags": []
   },
   "source": [
    "## 3. Normalize Text Data\n",
    "### * Standardize text in columns like Composition, Side_effects, and Uses:\n",
    "### * Convert to lowercase.\n",
    "### * Remove special characters and stopwords.\n",
    "### * Tokenize if necessary."
   ]
  },
  {
   "cell_type": "code",
   "execution_count": 8,
   "id": "fde10c5b",
   "metadata": {
    "execution": {
     "iopub.execute_input": "2025-01-27T04:58:50.980333Z",
     "iopub.status.busy": "2025-01-27T04:58:50.979980Z",
     "iopub.status.idle": "2025-01-27T04:58:50.985384Z",
     "shell.execute_reply": "2025-01-27T04:58:50.983668Z"
    },
    "papermill": {
     "duration": 0.015351,
     "end_time": "2025-01-27T04:58:50.987655",
     "exception": false,
     "start_time": "2025-01-27T04:58:50.972304",
     "status": "completed"
    },
    "tags": []
   },
   "outputs": [],
   "source": [
    "import re\n",
    "\n",
    "#  Function for text cleaning\n",
    "def clean_text(text):\n",
    "    text = str(text).lower()  # Convert to lowercase\n",
    "    text = re.sub(r'[^\\w\\s]', '', text)  # Remove special characters\n",
    "    return text\n"
   ]
  },
  {
   "cell_type": "code",
   "execution_count": 9,
   "id": "b5d3686c",
   "metadata": {
    "execution": {
     "iopub.execute_input": "2025-01-27T04:58:51.002889Z",
     "iopub.status.busy": "2025-01-27T04:58:51.002448Z",
     "iopub.status.idle": "2025-01-27T04:58:51.095938Z",
     "shell.execute_reply": "2025-01-27T04:58:51.094756Z"
    },
    "papermill": {
     "duration": 0.103402,
     "end_time": "2025-01-27T04:58:51.098109",
     "exception": false,
     "start_time": "2025-01-27T04:58:50.994707",
     "status": "completed"
    },
    "tags": []
   },
   "outputs": [],
   "source": [
    "# Apply text cleaning\n",
    "data['Composition'] = data['Composition'].apply(clean_text)\n",
    "data['Side_effects'] = data['Side_effects'].apply(clean_text)\n",
    "data['Uses'] = data['Uses'].apply(clean_text)\n"
   ]
  },
  {
   "cell_type": "markdown",
   "id": "defd5b53",
   "metadata": {
    "papermill": {
     "duration": 0.00641,
     "end_time": "2025-01-27T04:58:51.111388",
     "exception": false,
     "start_time": "2025-01-27T04:58:51.104978",
     "status": "completed"
    },
    "tags": []
   },
   "source": [
    "# 4. Explore Key Features\n",
    "### * Analyze the distribution of medications by:\n",
    "#### * Manufacturer.\n",
    "#### * Use cases.\n",
    "#### * Review ratings.\n",
    "#### * Identify outliers and anomalies."
   ]
  },
  {
   "cell_type": "code",
   "execution_count": 10,
   "id": "0ac1e0b4",
   "metadata": {
    "execution": {
     "iopub.execute_input": "2025-01-27T04:58:51.126251Z",
     "iopub.status.busy": "2025-01-27T04:58:51.125861Z",
     "iopub.status.idle": "2025-01-27T04:58:51.134229Z",
     "shell.execute_reply": "2025-01-27T04:58:51.132787Z"
    },
    "papermill": {
     "duration": 0.017815,
     "end_time": "2025-01-27T04:58:51.136044",
     "exception": false,
     "start_time": "2025-01-27T04:58:51.118229",
     "status": "completed"
    },
    "tags": []
   },
   "outputs": [
    {
     "name": "stdout",
     "output_type": "stream",
     "text": [
      "Manufacturer\n",
      "Sun Pharmaceutical Industries Ltd    820\n",
      "Intas Pharmaceuticals Ltd            654\n",
      "Cipla Ltd                            574\n",
      "Torrent Pharmaceuticals Ltd          445\n",
      "Lupin Ltd                            435\n",
      "                                    ... \n",
      "Universal NutriScience                 1\n",
      "Orison Pharma International            1\n",
      "Pacific Biotech                        1\n",
      "Misae Lifesciences Pvt Ltd             1\n",
      "Albia Biocare                          1\n",
      "Name: count, Length: 759, dtype: int64\n"
     ]
    }
   ],
   "source": [
    "# Manufacturer distribution\n",
    "print(data['Manufacturer'].value_counts())\n"
   ]
  },
  {
   "cell_type": "code",
   "execution_count": 11,
   "id": "691ef814",
   "metadata": {
    "execution": {
     "iopub.execute_input": "2025-01-27T04:58:51.151334Z",
     "iopub.status.busy": "2025-01-27T04:58:51.150981Z",
     "iopub.status.idle": "2025-01-27T04:58:51.172353Z",
     "shell.execute_reply": "2025-01-27T04:58:51.171159Z"
    },
    "papermill": {
     "duration": 0.030987,
     "end_time": "2025-01-27T04:58:51.174087",
     "exception": false,
     "start_time": "2025-01-27T04:58:51.143100",
     "status": "completed"
    },
    "tags": []
   },
   "outputs": [
    {
     "data": {
      "text/html": [
       "<div>\n",
       "<style scoped>\n",
       "    .dataframe tbody tr th:only-of-type {\n",
       "        vertical-align: middle;\n",
       "    }\n",
       "\n",
       "    .dataframe tbody tr th {\n",
       "        vertical-align: top;\n",
       "    }\n",
       "\n",
       "    .dataframe thead th {\n",
       "        text-align: right;\n",
       "    }\n",
       "</style>\n",
       "<table border=\"1\" class=\"dataframe\">\n",
       "  <thead>\n",
       "    <tr style=\"text-align: right;\">\n",
       "      <th></th>\n",
       "      <th>Excellent Review %</th>\n",
       "      <th>Average Review %</th>\n",
       "      <th>Poor Review %</th>\n",
       "    </tr>\n",
       "  </thead>\n",
       "  <tbody>\n",
       "    <tr>\n",
       "      <th>count</th>\n",
       "      <td>11825.000000</td>\n",
       "      <td>11825.000000</td>\n",
       "      <td>11825.000000</td>\n",
       "    </tr>\n",
       "    <tr>\n",
       "      <th>mean</th>\n",
       "      <td>38.516025</td>\n",
       "      <td>35.756364</td>\n",
       "      <td>25.727611</td>\n",
       "    </tr>\n",
       "    <tr>\n",
       "      <th>std</th>\n",
       "      <td>25.225343</td>\n",
       "      <td>18.268134</td>\n",
       "      <td>23.991985</td>\n",
       "    </tr>\n",
       "    <tr>\n",
       "      <th>min</th>\n",
       "      <td>0.000000</td>\n",
       "      <td>0.000000</td>\n",
       "      <td>0.000000</td>\n",
       "    </tr>\n",
       "    <tr>\n",
       "      <th>25%</th>\n",
       "      <td>22.000000</td>\n",
       "      <td>27.000000</td>\n",
       "      <td>0.000000</td>\n",
       "    </tr>\n",
       "    <tr>\n",
       "      <th>50%</th>\n",
       "      <td>34.000000</td>\n",
       "      <td>35.000000</td>\n",
       "      <td>22.000000</td>\n",
       "    </tr>\n",
       "    <tr>\n",
       "      <th>75%</th>\n",
       "      <td>51.000000</td>\n",
       "      <td>47.000000</td>\n",
       "      <td>35.000000</td>\n",
       "    </tr>\n",
       "    <tr>\n",
       "      <th>max</th>\n",
       "      <td>100.000000</td>\n",
       "      <td>88.000000</td>\n",
       "      <td>100.000000</td>\n",
       "    </tr>\n",
       "  </tbody>\n",
       "</table>\n",
       "</div>"
      ],
      "text/plain": [
       "       Excellent Review %  Average Review %  Poor Review %\n",
       "count        11825.000000      11825.000000   11825.000000\n",
       "mean            38.516025         35.756364      25.727611\n",
       "std             25.225343         18.268134      23.991985\n",
       "min              0.000000          0.000000       0.000000\n",
       "25%             22.000000         27.000000       0.000000\n",
       "50%             34.000000         35.000000      22.000000\n",
       "75%             51.000000         47.000000      35.000000\n",
       "max            100.000000         88.000000     100.000000"
      ]
     },
     "execution_count": 11,
     "metadata": {},
     "output_type": "execute_result"
    }
   ],
   "source": [
    "# Review rating analysis\n",
    "review_columns = ['Excellent Review %', 'Average Review %', 'Poor Review %']\n",
    "data[review_columns].describe()\n"
   ]
  },
  {
   "cell_type": "code",
   "execution_count": 12,
   "id": "56e127eb",
   "metadata": {
    "execution": {
     "iopub.execute_input": "2025-01-27T04:58:51.189791Z",
     "iopub.status.busy": "2025-01-27T04:58:51.189402Z",
     "iopub.status.idle": "2025-01-27T04:58:51.477775Z",
     "shell.execute_reply": "2025-01-27T04:58:51.476665Z"
    },
    "papermill": {
     "duration": 0.298497,
     "end_time": "2025-01-27T04:58:51.479607",
     "exception": false,
     "start_time": "2025-01-27T04:58:51.181110",
     "status": "completed"
    },
    "tags": []
   },
   "outputs": [
    {
     "data": {
      "image/png": "[encoded data removed]",
      "text/plain": [
       "<Figure size 640x480 with 1 Axes>"
      ]
     },
     "metadata": {},
     "output_type": "display_data"
    }
   ],
   "source": [
    "# Visualize rating distribution\n",
    "import matplotlib.pyplot as plt\n",
    "\n",
    "data[review_columns].plot(kind='box')\n",
    "plt.title('Review Score Distribution')\n",
    "plt.show()"
   ]
  },
  {
   "cell_type": "markdown",
   "id": "b1c4a216",
   "metadata": {
    "papermill": {
     "duration": 0.006971,
     "end_time": "2025-01-27T04:58:51.494169",
     "exception": false,
     "start_time": "2025-01-27T04:58:51.487198",
     "status": "completed"
    },
    "tags": []
   },
   "source": [
    "## 5. Feature Engineering\n",
    "###     Tokenize Symptoms and Side Effects:\n",
    "####    *  Break these fields into individual tokens for embedding later.\n",
    "###     Aggregate Reviews into Sentiment:\n",
    "####    * Convert percentages into categorical labels (e.g., Positive, Neutral, Negative)."
   ]
  },
  {
   "cell_type": "code",
   "execution_count": 13,
   "id": "26ed7912",
   "metadata": {
    "execution": {
     "iopub.execute_input": "2025-01-27T04:58:51.510386Z",
     "iopub.status.busy": "2025-01-27T04:58:51.510049Z",
     "iopub.status.idle": "2025-01-27T04:58:51.531029Z",
     "shell.execute_reply": "2025-01-27T04:58:51.529936Z"
    },
    "papermill": {
     "duration": 0.031645,
     "end_time": "2025-01-27T04:58:51.533200",
     "exception": false,
     "start_time": "2025-01-27T04:58:51.501555",
     "status": "completed"
    },
    "tags": []
   },
   "outputs": [],
   "source": [
    "# Tokenize symptoms\n",
    "data['Tokenized_Uses'] = data['Uses'].apply(lambda x: x.split())\n"
   ]
  },
  {
   "cell_type": "code",
   "execution_count": 14,
   "id": "3bc3b143",
   "metadata": {
    "execution": {
     "iopub.execute_input": "2025-01-27T04:58:51.549905Z",
     "iopub.status.busy": "2025-01-27T04:58:51.549453Z",
     "iopub.status.idle": "2025-01-27T04:58:51.648090Z",
     "shell.execute_reply": "2025-01-27T04:58:51.646909Z"
    },
    "papermill": {
     "duration": 0.109233,
     "end_time": "2025-01-27T04:58:51.650194",
     "exception": false,
     "start_time": "2025-01-27T04:58:51.540961",
     "status": "completed"
    },
    "tags": []
   },
   "outputs": [],
   "source": [
    "# Aggregate review sentiment\n",
    "def review_to_sentiment(row):\n",
    "    if row['Excellent Review %'] > 50:\n",
    "        return 'Positive'\n",
    "    elif row['Poor Review %'] > 50:\n",
    "        return 'Negative'\n",
    "    else:\n",
    "        return 'Neutral'\n",
    "\n",
    "data['Review_Sentiment'] = data.apply(review_to_sentiment, axis=1)"
   ]
  },
  {
   "cell_type": "markdown",
   "id": "50e02162",
   "metadata": {
    "papermill": {
     "duration": 0.008414,
     "end_time": "2025-01-27T04:58:51.666344",
     "exception": false,
     "start_time": "2025-01-27T04:58:51.657930",
     "status": "completed"
    },
    "tags": []
   },
   "source": [
    "# 6. Save Cleaned Data\n",
    "### Store the cleaned dataset for use in subsequent phases."
   ]
  },
  {
   "cell_type": "code",
   "execution_count": 15,
   "id": "fb87c91c",
   "metadata": {
    "execution": {
     "iopub.execute_input": "2025-01-27T04:58:51.683742Z",
     "iopub.status.busy": "2025-01-27T04:58:51.683287Z",
     "iopub.status.idle": "2025-01-27T04:58:51.841042Z",
     "shell.execute_reply": "2025-01-27T04:58:51.839470Z"
    },
    "papermill": {
     "duration": 0.16842,
     "end_time": "2025-01-27T04:58:51.843048",
     "exception": false,
     "start_time": "2025-01-27T04:58:51.674628",
     "status": "completed"
    },
    "tags": []
   },
   "outputs": [
    {
     "name": "stdout",
     "output_type": "stream",
     "text": [
      "Cleaned data saved to cleaned_dataset.csv\n"
     ]
    }
   ],
   "source": [
    "cleaned_file_path = 'cleaned_dataset.csv'\n",
    "data.to_csv(cleaned_file_path, index=False)\n",
    "print(f\"Cleaned data saved to {cleaned_file_path}\")\n"
   ]
  },
  {
   "cell_type": "markdown",
   "id": "963060bb",
   "metadata": {
    "papermill": {
     "duration": 0.00763,
     "end_time": "2025-01-27T04:58:51.858390",
     "exception": false,
     "start_time": "2025-01-27T04:58:51.850760",
     "status": "completed"
    },
    "tags": []
   },
   "source": [
    "# Phase 2: Generate Embeddings and Build the Similarity Engine\n",
    "\n",
    "## In this phase, we'll generate embeddings for textual data using Word2Vec and build a similarity engine to recommend medications.\n",
    "## This engine will allow us to input symptoms or medical conditions and find relevant medications based on their uses, composition, and side effects."
   ]
  },
  {
   "cell_type": "markdown",
   "id": "116eed64",
   "metadata": {
    "papermill": {
     "duration": 0.009014,
     "end_time": "2025-01-27T04:58:51.874993",
     "exception": false,
     "start_time": "2025-01-27T04:58:51.865979",
     "status": "completed"
    },
    "tags": []
   },
   "source": [
    "## Step 1: Preprocess Text Data for Embeddings\n",
    "### We need to combine and tokenize the relevant text fields (Uses, Composition, Side_effects) to prepare them for embedding generation."
   ]
  },
  {
   "cell_type": "code",
   "execution_count": 16,
   "id": "0b459b78",
   "metadata": {
    "execution": {
     "iopub.execute_input": "2025-01-27T04:58:51.891512Z",
     "iopub.status.busy": "2025-01-27T04:58:51.891165Z",
     "iopub.status.idle": "2025-01-27T04:58:51.948048Z",
     "shell.execute_reply": "2025-01-27T04:58:51.946946Z"
    },
    "papermill": {
     "duration": 0.06727,
     "end_time": "2025-01-27T04:58:51.949996",
     "exception": false,
     "start_time": "2025-01-27T04:58:51.882726",
     "status": "completed"
    },
    "tags": []
   },
   "outputs": [],
   "source": [
    "# Combine relevant columns into a single text field\n",
    "data['Combined_Text'] = data['Uses'] + ' ' + data['Composition'] + ' ' + data['Side_effects']\n",
    "\n",
    "# Tokenize the combined text field\n",
    "data['Tokenized_Text'] = data['Combined_Text'].apply(lambda x: x.split())\n"
   ]
  },
  {
   "cell_type": "markdown",
   "id": "5a430967",
   "metadata": {
    "papermill": {
     "duration": 0.007373,
     "end_time": "2025-01-27T04:58:51.965210",
     "exception": false,
     "start_time": "2025-01-27T04:58:51.957837",
     "status": "completed"
    },
    "tags": []
   },
   "source": [
    "## Step 2: Train a Word2Vec Model\n",
    "### Train a Word2Vec model on the tokenized text data to generate word embeddings for the vocabulary."
   ]
  },
  {
   "cell_type": "code",
   "execution_count": 17,
   "id": "cf4429d2",
   "metadata": {
    "execution": {
     "iopub.execute_input": "2025-01-27T04:58:51.982379Z",
     "iopub.status.busy": "2025-01-27T04:58:51.982007Z",
     "iopub.status.idle": "2025-01-27T04:59:04.586835Z",
     "shell.execute_reply": "2025-01-27T04:59:04.585389Z"
    },
    "papermill": {
     "duration": 12.61624,
     "end_time": "2025-01-27T04:59:04.589573",
     "exception": false,
     "start_time": "2025-01-27T04:58:51.973333",
     "status": "completed"
    },
    "tags": []
   },
   "outputs": [],
   "source": [
    "from gensim.models import Word2Vec\n",
    "\n",
    "word2vec_model = Word2Vec(\n",
    "    sentences=data['Tokenized_Text'], \n",
    "    vector_size=100, \n",
    "    window=5, \n",
    "    min_count=1, \n",
    "    workers=4\n",
    ")\n"
   ]
  },
  {
   "cell_type": "markdown",
   "id": "b1254f87",
   "metadata": {
    "papermill": {
     "duration": 0.007567,
     "end_time": "2025-01-27T04:59:04.605328",
     "exception": false,
     "start_time": "2025-01-27T04:59:04.597761",
     "status": "completed"
    },
    "tags": []
   },
   "source": [
    "## Step 3: Generate Row Embeddings\n",
    "#### Create an embedding for each row by averaging the embeddings of the words in the combined text field."
   ]
  },
  {
   "cell_type": "code",
   "execution_count": 18,
   "id": "a4cbbb77",
   "metadata": {
    "execution": {
     "iopub.execute_input": "2025-01-27T04:59:04.622418Z",
     "iopub.status.busy": "2025-01-27T04:59:04.621817Z",
     "iopub.status.idle": "2025-01-27T04:59:05.441943Z",
     "shell.execute_reply": "2025-01-27T04:59:05.440847Z"
    },
    "papermill": {
     "duration": 0.830987,
     "end_time": "2025-01-27T04:59:05.443925",
     "exception": false,
     "start_time": "2025-01-27T04:59:04.612938",
     "status": "completed"
    },
    "tags": []
   },
   "outputs": [
    {
     "name": "stdout",
     "output_type": "stream",
     "text": [
      "Generating embeddings...\n"
     ]
    }
   ],
   "source": [
    "import numpy as np\n",
    "\n",
    "# Function to generate row embeddings\n",
    "def get_embedding(text_tokens):\n",
    "    vectors = [word2vec_model.wv[word] for word in text_tokens if word in word2vec_model.wv]\n",
    "    if len(vectors) > 0:\n",
    "        return np.mean(vectors, axis=0)\n",
    "    else:\n",
    "        return np.zeros(word2vec_model.vector_size)\n",
    "\n",
    "print(\"Generating embeddings...\")\n",
    "data['Embedding'] = data['Tokenized_Text'].apply(get_embedding)\n",
    "\n",
    "# Convert embeddings to a numpy array for similarity calculations\n",
    "embeddings_matrix = np.vstack(data['Embedding'].values)\n"
   ]
  },
  {
   "cell_type": "markdown",
   "id": "234b174c",
   "metadata": {
    "papermill": {
     "duration": 0.007298,
     "end_time": "2025-01-27T04:59:05.459070",
     "exception": false,
     "start_time": "2025-01-27T04:59:05.451772",
     "status": "completed"
    },
    "tags": []
   },
   "source": [
    "## Step 4: Build the Similarity Engine\n",
    "### Implement a similarity engine that uses cosine similarity to find the most relevant medications for a given input."
   ]
  },
  {
   "cell_type": "code",
   "execution_count": 19,
   "id": "094489a3",
   "metadata": {
    "execution": {
     "iopub.execute_input": "2025-01-27T04:59:05.475488Z",
     "iopub.status.busy": "2025-01-27T04:59:05.475106Z",
     "iopub.status.idle": "2025-01-27T04:59:05.719170Z",
     "shell.execute_reply": "2025-01-27T04:59:05.717954Z"
    },
    "papermill": {
     "duration": 0.254507,
     "end_time": "2025-01-27T04:59:05.721090",
     "exception": false,
     "start_time": "2025-01-27T04:59:05.466583",
     "status": "completed"
    },
    "tags": []
   },
   "outputs": [],
   "source": [
    "from sklearn.metrics.pairwise import cosine_similarity\n",
    "def find_similar_medicines(input_symptom, top_n=5):\n",
    "    # Preprocess the input symptom\n",
    "    input_tokens = clean_text(input_symptom)\n",
    "\n",
    "    # Check if the model is loaded and ready\n",
    "    if not hasattr(word2vec_model, 'wv'):\n",
    "        raise NameError(\"Word2Vec model is not loaded properly\")\n",
    "\n",
    "    # Ensure that the input tokens exist in the model vocabulary\n",
    "    input_vector = np.mean([word2vec_model.wv[token] for token in input_tokens if token in word2vec_model.wv], axis=0)\n",
    "\n",
    "    # Calculate similarity with the 'Uses' column\n",
    "    similarities = []\n",
    "    for idx, row in data.iterrows():\n",
    "        medicine_vector = np.mean([word2vec_model.wv[token] for token in clean_text(row['Uses']) if token in word2vec_model.wv], axis=0)\n",
    "        sim_score = cosine_similarity([input_vector], [medicine_vector])\n",
    "        similarities.append((sim_score[0][0], idx, row['Review_Sentiment']))  # Include sentiment in tuple\n",
    "\n",
    "    # Sort primarily by sentiment, then by similarity score\n",
    "    sentiment_order = {'Positive': 1, 'Neutral': 2, 'Negative': 3}\n",
    "    similarities = sorted(similarities, key=lambda x: (sentiment_order[x[2]], -x[0]))  # Sort by sentiment and then by similarity score in descending order\n",
    "\n",
    "    # Return the top N most similar medicines\n",
    "    recommended_medicines = []\n",
    "    for score, idx, sentiment in similarities[:top_n]:\n",
    "        medicine = data.iloc[idx]\n",
    "        medicine['Similarity_Score'] = score\n",
    "        recommended_medicines.append(medicine)\n",
    "    \n",
    "    return recommended_medicines\n",
    "\n"
   ]
  },
  {
   "cell_type": "code",
   "execution_count": 20,
   "id": "293890d1",
   "metadata": {
    "execution": {
     "iopub.execute_input": "2025-01-27T04:59:05.737665Z",
     "iopub.status.busy": "2025-01-27T04:59:05.737272Z",
     "iopub.status.idle": "2025-01-27T04:59:11.795405Z",
     "shell.execute_reply": "2025-01-27T04:59:11.793961Z"
    },
    "papermill": {
     "duration": 6.068696,
     "end_time": "2025-01-27T04:59:11.797593",
     "exception": false,
     "start_time": "2025-01-27T04:59:05.728897",
     "status": "completed"
    },
    "tags": []
   },
   "outputs": [
    {
     "name": "stdout",
     "output_type": "stream",
     "text": [
      "\n",
      "Treatment Medications:\n",
      "Medicine Name                    Ivermect 12mg Tablet\n",
      "Uses                treatment of parasitic infections\n",
      "Review_Sentiment                             Positive\n",
      "Similarity_Score                                  1.0\n",
      "Name: 3865, dtype: object\n",
      "Medicine Name                     Olworm 400mg Tablet\n",
      "Uses                treatment of parasitic infections\n",
      "Review_Sentiment                             Positive\n",
      "Similarity_Score                                  1.0\n",
      "Name: 7318, dtype: object\n",
      "Medicine Name                    Vermact 12 Tablet DT\n",
      "Uses                treatment of parasitic infections\n",
      "Review_Sentiment                             Positive\n",
      "Similarity_Score                                  1.0\n",
      "Name: 10924, dtype: object\n",
      "Medicine Name                                   Gravidol 200mg Tablet\n",
      "Uses                 hypertension high blood pressure angina heart...\n",
      "Review_Sentiment                                             Positive\n",
      "Similarity_Score                                             0.998948\n",
      "Name: 3155, dtype: object\n",
      "Medicine Name                                        Listril 5 Tablet\n",
      "Uses                 hypertension high blood pressure prevention o...\n",
      "Review_Sentiment                                             Positive\n",
      "Similarity_Score                                             0.998904\n",
      "Name: 4636, dtype: object\n"
     ]
    },
    {
     "name": "stderr",
     "output_type": "stream",
     "text": [
      "<ipython-input-19-42e01bc5bd39>:28: SettingWithCopyWarning: \n",
      "A value is trying to be set on a copy of a slice from a DataFrame\n",
      "\n",
      "See the caveats in the documentation: https://pandas.pydata.org/pandas-docs/stable/user_guide/indexing.html#returning-a-view-versus-a-copy\n",
      "  medicine['Similarity_Score'] = score\n",
      "<ipython-input-19-42e01bc5bd39>:28: SettingWithCopyWarning: \n",
      "A value is trying to be set on a copy of a slice from a DataFrame\n",
      "\n",
      "See the caveats in the documentation: https://pandas.pydata.org/pandas-docs/stable/user_guide/indexing.html#returning-a-view-versus-a-copy\n",
      "  medicine['Similarity_Score'] = score\n",
      "<ipython-input-19-42e01bc5bd39>:28: SettingWithCopyWarning: \n",
      "A value is trying to be set on a copy of a slice from a DataFrame\n",
      "\n",
      "See the caveats in the documentation: https://pandas.pydata.org/pandas-docs/stable/user_guide/indexing.html#returning-a-view-versus-a-copy\n",
      "  medicine['Similarity_Score'] = score\n",
      "<ipython-input-19-42e01bc5bd39>:28: SettingWithCopyWarning: \n",
      "A value is trying to be set on a copy of a slice from a DataFrame\n",
      "\n",
      "See the caveats in the documentation: https://pandas.pydata.org/pandas-docs/stable/user_guide/indexing.html#returning-a-view-versus-a-copy\n",
      "  medicine['Similarity_Score'] = score\n",
      "<ipython-input-19-42e01bc5bd39>:28: SettingWithCopyWarning: \n",
      "A value is trying to be set on a copy of a slice from a DataFrame\n",
      "\n",
      "See the caveats in the documentation: https://pandas.pydata.org/pandas-docs/stable/user_guide/indexing.html#returning-a-view-versus-a-copy\n",
      "  medicine['Similarity_Score'] = score\n",
      "<ipython-input-19-42e01bc5bd39>:28: SettingWithCopyWarning: \n",
      "A value is trying to be set on a copy of a slice from a DataFrame\n",
      "\n",
      "See the caveats in the documentation: https://pandas.pydata.org/pandas-docs/stable/user_guide/indexing.html#returning-a-view-versus-a-copy\n",
      "  medicine['Similarity_Score'] = score\n"
     ]
    }
   ],
   "source": [
    "# Example usage\n",
    "sample_input = \"Treatment of Parasitic infections\"\n",
    "print(\"\\nTreatment Medications:\")\n",
    "recommended = find_similar_medicines(sample_input)\n",
    "for med in recommended:\n",
    "    print(med[['Medicine Name', 'Uses', 'Review_Sentiment', 'Similarity_Score']])"
   ]
  },
  {
   "cell_type": "code",
   "execution_count": 21,
   "id": "b094f7f6",
   "metadata": {
    "execution": {
     "iopub.execute_input": "2025-01-27T04:59:11.816047Z",
     "iopub.status.busy": "2025-01-27T04:59:11.815626Z",
     "iopub.status.idle": "2025-01-27T04:59:17.988304Z",
     "shell.execute_reply": "2025-01-27T04:59:17.986944Z"
    },
    "papermill": {
     "duration": 6.184988,
     "end_time": "2025-01-27T04:59:17.990558",
     "exception": false,
     "start_time": "2025-01-27T04:59:11.805570",
     "status": "completed"
    },
    "tags": []
   },
   "outputs": [
    {
     "name": "stdout",
     "output_type": "stream",
     "text": [
      "\n",
      "Treatment Medications:\n",
      "Medicine Name                                     Minirin Nasal Spray\n",
      "Uses                treatment of diabetes insipidustreatment of be...\n",
      "Review_Sentiment                                             Positive\n",
      "Similarity_Score                                             0.999206\n",
      "Name: 5529, dtype: object\n",
      "Medicine Name                                 Ansuper-Plus Capsule SR\n",
      "Uses                treatment of gastroesophageal reflux disease a...\n",
      "Review_Sentiment                                             Positive\n",
      "Similarity_Score                                             0.996343\n",
      "Name: 932, dtype: object\n",
      "Medicine Name                                     Drego-LS Capsule SR\n",
      "Uses                treatment of gastroesophageal reflux disease a...\n",
      "Review_Sentiment                                             Positive\n",
      "Similarity_Score                                             0.996343\n",
      "Name: 1633, dtype: object\n",
      "Medicine Name                             Enliva 20mg/75mg Capsule SR\n",
      "Uses                treatment of gastroesophageal reflux disease a...\n",
      "Review_Sentiment                                             Positive\n",
      "Similarity_Score                                             0.996343\n",
      "Name: 2167, dtype: object\n",
      "Medicine Name                                 Gastrazole Plus Capsule\n",
      "Uses                treatment of gastroesophageal reflux disease a...\n",
      "Review_Sentiment                                             Positive\n",
      "Similarity_Score                                             0.996343\n",
      "Name: 3252, dtype: object\n"
     ]
    },
    {
     "name": "stderr",
     "output_type": "stream",
     "text": [
      "<ipython-input-19-42e01bc5bd39>:28: SettingWithCopyWarning: \n",
      "A value is trying to be set on a copy of a slice from a DataFrame\n",
      "\n",
      "See the caveats in the documentation: https://pandas.pydata.org/pandas-docs/stable/user_guide/indexing.html#returning-a-view-versus-a-copy\n",
      "  medicine['Similarity_Score'] = score\n",
      "<ipython-input-19-42e01bc5bd39>:28: SettingWithCopyWarning: \n",
      "A value is trying to be set on a copy of a slice from a DataFrame\n",
      "\n",
      "See the caveats in the documentation: https://pandas.pydata.org/pandas-docs/stable/user_guide/indexing.html#returning-a-view-versus-a-copy\n",
      "  medicine['Similarity_Score'] = score\n",
      "<ipython-input-19-42e01bc5bd39>:28: SettingWithCopyWarning: \n",
      "A value is trying to be set on a copy of a slice from a DataFrame\n",
      "\n",
      "See the caveats in the documentation: https://pandas.pydata.org/pandas-docs/stable/user_guide/indexing.html#returning-a-view-versus-a-copy\n",
      "  medicine['Similarity_Score'] = score\n",
      "<ipython-input-19-42e01bc5bd39>:28: SettingWithCopyWarning: \n",
      "A value is trying to be set on a copy of a slice from a DataFrame\n",
      "\n",
      "See the caveats in the documentation: https://pandas.pydata.org/pandas-docs/stable/user_guide/indexing.html#returning-a-view-versus-a-copy\n",
      "  medicine['Similarity_Score'] = score\n",
      "<ipython-input-19-42e01bc5bd39>:28: SettingWithCopyWarning: \n",
      "A value is trying to be set on a copy of a slice from a DataFrame\n",
      "\n",
      "See the caveats in the documentation: https://pandas.pydata.org/pandas-docs/stable/user_guide/indexing.html#returning-a-view-versus-a-copy\n",
      "  medicine['Similarity_Score'] = score\n",
      "<ipython-input-19-42e01bc5bd39>:28: SettingWithCopyWarning: \n",
      "A value is trying to be set on a copy of a slice from a DataFrame\n",
      "\n",
      "See the caveats in the documentation: https://pandas.pydata.org/pandas-docs/stable/user_guide/indexing.html#returning-a-view-versus-a-copy\n",
      "  medicine['Similarity_Score'] = score\n"
     ]
    }
   ],
   "source": [
    "# Example usage\n",
    "sample_input = \"Treatment of Diabetes Melitus\"\n",
    "print(\"\\nTreatment Medications:\")\n",
    "recommended = find_similar_medicines(sample_input)\n",
    "for med in recommended:\n",
    "    print(med[['Medicine Name', 'Uses', 'Review_Sentiment', 'Similarity_Score']])"
   ]
  },
  {
   "cell_type": "markdown",
   "id": "1c934466",
   "metadata": {
    "papermill": {
     "duration": 0.008014,
     "end_time": "2025-01-27T04:59:18.006947",
     "exception": false,
     "start_time": "2025-01-27T04:59:17.998933",
     "status": "completed"
    },
    "tags": []
   },
   "source": [
    "## Step 5: Save the Word2Vec Model\n",
    "### Save the trained Word2Vec model for future use or integration."
   ]
  },
  {
   "cell_type": "code",
   "execution_count": 22,
   "id": "f6fc7941",
   "metadata": {
    "execution": {
     "iopub.execute_input": "2025-01-27T04:59:18.024523Z",
     "iopub.status.busy": "2025-01-27T04:59:18.024168Z",
     "iopub.status.idle": "2025-01-27T04:59:18.036059Z",
     "shell.execute_reply": "2025-01-27T04:59:18.034831Z"
    },
    "papermill": {
     "duration": 0.022763,
     "end_time": "2025-01-27T04:59:18.037792",
     "exception": false,
     "start_time": "2025-01-27T04:59:18.015029",
     "status": "completed"
    },
    "tags": []
   },
   "outputs": [
    {
     "name": "stdout",
     "output_type": "stream",
     "text": [
      "\n",
      "Word2Vec model saved to word2vec_medicine_model.model\n"
     ]
    }
   ],
   "source": [
    "# Save the Word2Vec model\n",
    "word2vec_model_path = 'word2vec_medicine_model.model'\n",
    "word2vec_model.save(word2vec_model_path)\n",
    "print(f\"\\nWord2Vec model saved to {word2vec_model_path}\")\n"
   ]
  },
  {
   "cell_type": "code",
   "execution_count": null,
   "id": "5b889a46",
   "metadata": {
    "papermill": {
     "duration": 0.007924,
     "end_time": "2025-01-27T04:59:18.054084",
     "exception": false,
     "start_time": "2025-01-27T04:59:18.046160",
     "status": "completed"
    },
    "tags": []
   },
   "outputs": [],
   "source": []
  }
 ],
 "metadata": {
  "kaggle": {
   "accelerator": "none",
   "dataSources": [
    {
     "datasetId": 5926492,
     "sourceId": 9693425,
     "sourceType": "datasetVersion"
    }
   ],
   "dockerImageVersionId": 30822,
   "isGpuEnabled": false,
   "isInternetEnabled": true,
   "language": "python",
   "sourceType": "notebook"
  },
  "kernelspec": {
   "display_name": "Python 3",
   "language": "python",
   "name": "python3"
  },
  "language_info": {
   "codemirror_mode": {
    "name": "ipython",
    "version": 3
   },
   "file_extension": ".py",
   "mimetype": "text/x-python",
   "name": "python",
   "nbconvert_exporter": "python",
   "pygments_lexer": "ipython3",
   "version": "3.10.12"
  },
  "papermill": {
   "default_parameters": {},
   "duration": 32.892944,
   "end_time": "2025-01-27T04:59:19.586387",
   "environment_variables": {},
   "exception": null,
   "input_path": "__notebook__.ipynb",
   "output_path": "__notebook__.ipynb",
   "parameters": {},
   "start_time": "2025-01-27T04:58:46.693443",
   "version": "2.6.0"
  }
 },
 "nbformat": 4,
 "nbformat_minor": 5
}
